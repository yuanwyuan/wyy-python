{
 "cells": [
  {
   "cell_type": "code",
   "execution_count": 3,
   "metadata": {},
   "outputs": [],
   "source": [
    "from sklearn.datasets import load_digits\n",
    "from sklearn.naive_bayes import GaussianNB,MultinomialNB,BernoulliNB\n",
    "from sklearn.model_selection import train_test_split\n",
    "from sklearn.metrics import accuracy_score\n",
    "import matplotlib.pyplot as plt\n"
   ]
  },
  {
   "cell_type": "code",
   "execution_count": 5,
   "metadata": {},
   "outputs": [
    {
     "name": "stdout",
     "output_type": "stream",
     "text": [
      "(1797, 64) (1797,)\n",
      "[[ 0.  0.  5. 13.  9.  1.  0.  0.]\n",
      " [ 0.  0. 13. 15. 10. 15.  5.  0.]\n",
      " [ 0.  3. 15.  2.  0. 11.  8.  0.]\n",
      " [ 0.  4. 12.  0.  0.  8.  8.  0.]\n",
      " [ 0.  5.  8.  0.  0.  9.  8.  0.]\n",
      " [ 0.  4. 11.  0.  1. 12.  7.  0.]\n",
      " [ 0.  2. 14.  5. 10. 12.  0.  0.]\n",
      " [ 0.  0.  6. 13. 10.  0.  0.  0.]]\n",
      "(8, 8)\n"
     ]
    },
    {
     "data": {
      "image/png": "[encoded data removed]",
      "text/plain": [
       "<Figure size 432x288 with 1 Axes>"
      ]
     },
     "metadata": {
      "needs_background": "light"
     },
     "output_type": "display_data"
    },
    {
     "name": "stdout",
     "output_type": "stream",
     "text": [
      "0\n"
     ]
    }
   ],
   "source": [
    "digits = load_digits()    ##导入手写数字数据集\n",
    "# print(digits)    #查看数据集都有什么\n",
    "x = digits.data\n",
    "y = digits.target\n",
    "print(x.shape,y.shape)    #查看数据集大小    \n",
    "print(digits.images[0])    #查看第一张图，可以知道是由8*8矩阵存储的\n",
    "print(digits.images[0].shape)\n",
    "plt.imshow(digits.images[0])     #显示出第一张图\n",
    "plt.show()\n",
    "print(digits.target[0])   #查看第一张图分类"
   ]
  },
  {
   "cell_type": "code",
   "execution_count": 10,
   "metadata": {},
   "outputs": [],
   "source": [
    "x_train,x_test,y_train,y_test = train_test_split(x,y,test_size=0.2,random_state=2)    \n",
    "#设置测试集和训练集大小"
   ]
  },
  {
   "cell_type": "code",
   "execution_count": 17,
   "metadata": {},
   "outputs": [
    {
     "name": "stdout",
     "output_type": "stream",
     "text": [
      "BermouliNB准确率为：0.81\n"
     ]
    }
   ],
   "source": [
    "'''伯努利朴素贝叶斯model'''\n",
    "model_b = BernoulliNB()\n",
    "model_b = model_b.fit(x_train,y_train)    #拟合训练数据\n",
    "pred_b =model_b.predict(x_test)   #预测测试数据的类别\n",
    "accuracy_score_b = accuracy_score(y_test,pred_b)\n",
    "print(f'BermouliNB准确率为：{accuracy_score_b:.2f}')\n"
   ]
  },
  {
   "cell_type": "code",
   "execution_count": 18,
   "metadata": {},
   "outputs": [
    {
     "name": "stdout",
     "output_type": "stream",
     "text": [
      "GaussianNB准确率:0.85\n"
     ]
    }
   ],
   "source": [
    "'''高斯朴素贝叶斯model'''\n",
    "model_g = GaussianNB()\n",
    "model_g.fit(x_train,y_train)\n",
    "pred_g =model_g.predict(x_test)\n",
    "accuracy_score_g = accuracy_score(y_test,pred_g)\n",
    "print(f'GaussianNB准确率:{accuracy_score_g:.2f}')\n"
   ]
  },
  {
   "cell_type": "code",
   "execution_count": 19,
   "metadata": {},
   "outputs": [
    {
     "name": "stdout",
     "output_type": "stream",
     "text": [
      "MultionmialNB准确率：0.88\n"
     ]
    }
   ],
   "source": [
    "'''多项式朴素贝叶斯model'''\n",
    "model_m = MultinomialNB(fit_prior=True)\n",
    "model_m.fit(x_train,y_train)\n",
    "pred_m  = model_m.predict(x_test)\n",
    "accuracy_score_m = accuracy_score(y_test,pred_m)\n",
    "print(f'MultionmialNB准确率：{accuracy_score_m:.2f}')\n"
   ]
  },
  {
   "cell_type": "code",
   "execution_count": null,
   "metadata": {},
   "outputs": [],
   "source": []
  },
  {
   "cell_type": "markdown",
   "metadata": {},
   "source": [
    "## 伯努利朴素贝叶斯：用在特征变量为0、1分布\n",
    "## 高斯朴素贝叶斯：用在特征变量是连续值的情况\n",
    "## 多项式朴素贝叶斯：特征为离散变量\n",
    "\n",
    "# 所以对于识别手写数字来说，其特征是离散变量，适合用多项式贝叶斯统计，其准确率最高"
   ]
  },
  {
   "cell_type": "code",
   "execution_count": null,
   "metadata": {},
   "outputs": [],
   "source": []
  }
 ],
 "metadata": {
  "kernelspec": {
   "display_name": "Python 3",
   "language": "python",
   "name": "python3"
  },
  "language_info": {
   "codemirror_mode": {
    "name": "ipython",
    "version": 3
   },
   "file_extension": ".py",
   "mimetype": "text/x-python",
   "name": "python",
   "nbconvert_exporter": "python",
   "pygments_lexer": "ipython3",
   "version": "3.8.3"
  }
 },
 "nbformat": 4,
 "nbformat_minor": 4
}
